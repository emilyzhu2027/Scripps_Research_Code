{
 "cells": [
  {
   "cell_type": "markdown",
   "metadata": {},
   "source": [
    "### This file identifies the breakpoint in the ICD code frequencies in order to determine which ICD codes to keep in the features."
   ]
  },
  {
   "cell_type": "code",
   "execution_count": 21,
   "metadata": {},
   "outputs": [],
   "source": [
    "import pandas as pd\n",
    "import numpy as np\n",
    "import piecewise_regression\n",
    "import matplotlib.pyplot as plt\n",
    "from kneed import KneeLocator"
   ]
  },
  {
   "cell_type": "code",
   "execution_count": 22,
   "metadata": {},
   "outputs": [],
   "source": [
    "# this csv file contains the counts for the number of participants that have the ICD 9 hospital codes\n",
    "freq9df = pd.read_csv(\"diagcode_count9NEW.csv\") \n",
    "freq9df.drop([\"eid\"], axis = 1) # dropping the numbers that identify each participant\n",
    "icd9total = freq9df.sum()\n",
    "\n",
    "# this csv file contains the counts for the number of participants that have the ICD 10 hospital codes\n",
    "freq10df = pd.read_csv(\"diagcode_count10NEW.csv\")\n",
    "freq10df.drop([\"eid\"], axis = 1) # dropping the numbers that identify each participant\n",
    "icd10total = freq10df.sum()"
   ]
  },
  {
   "cell_type": "code",
   "execution_count": 23,
   "metadata": {},
   "outputs": [],
   "source": [
    "icd_freq_df = pd.concat([icd9total, icd10total], axis=0).to_frame()"
   ]
  },
  {
   "cell_type": "code",
   "execution_count": 24,
   "metadata": {},
   "outputs": [],
   "source": [
    "icd_freq_df = icd_freq_df.drop([\"eid\"])\n",
    "icd_freq_df = icd_freq_df.sort_values(by=0, ascending=False)"
   ]
  },
  {
   "cell_type": "code",
   "execution_count": 25,
   "metadata": {},
   "outputs": [],
   "source": [
    "icd_codes = icd_freq_df.index\n",
    "icd_codes_x = np.arange(start=0, stop=len(icd_codes), step=1)\n",
    "# creating a key for each ICD code for graphing\n",
    "icd_codes_dict = dict(zip(icd_codes_x.tolist(), icd_codes))"
   ]
  },
  {
   "cell_type": "code",
   "execution_count": 26,
   "metadata": {},
   "outputs": [
    {
     "name": "stdout",
     "output_type": "stream",
     "text": [
      "Z867     43879\n",
      "Z871     42025\n",
      "Z921     38626\n",
      "Z880     35613\n",
      "Z966     31872\n",
      "         ...  \n",
      "W288         1\n",
      "X860         1\n",
      "V654         1\n",
      "W2909        1\n",
      "V936         1\n",
      "Name: 0, Length: 1016, dtype: int64\n",
      "Z867     4.642257\n",
      "Z871     4.623508\n",
      "Z921     4.586880\n",
      "Z880     4.551609\n",
      "Z966     4.503409\n",
      "           ...   \n",
      "W288     0.000000\n",
      "X860     0.000000\n",
      "V654     0.000000\n",
      "W2909    0.000000\n",
      "V936     0.000000\n",
      "Name: 0, Length: 1016, dtype: float64\n"
     ]
    }
   ],
   "source": [
    "# getting the list of frequencies for each ICD code and the log10 of the frequencies\n",
    "freq = icd_freq_df.iloc[:, 0]\n",
    "freq_log = np.log10(freq)"
   ]
  },
  {
   "cell_type": "code",
   "execution_count": null,
   "metadata": {},
   "outputs": [],
   "source": []
  },
  {
   "cell_type": "code",
   "execution_count": null,
   "metadata": {},
   "outputs": [],
   "source": []
  },
  {
   "cell_type": "markdown",
   "metadata": {},
   "source": [
    "### Kneedle - Without Log Transformation"
   ]
  },
  {
   "cell_type": "code",
   "execution_count": 27,
   "metadata": {},
   "outputs": [
    {
     "name": "stdout",
     "output_type": "stream",
     "text": [
      "106\n"
     ]
    },
    {
     "data": {
      "text/plain": [
       "<matplotlib.collections.LineCollection at 0x7fdadfe7f310>"
      ]
     },
     "execution_count": 27,
     "metadata": {},
     "output_type": "execute_result"
    },
    {
     "data": {
      "image/png": "[encoded data removed]",
      "text/plain": [
       "<Figure size 432x288 with 1 Axes>"
      ]
     },
     "metadata": {
      "needs_background": "light"
     },
     "output_type": "display_data"
    }
   ],
   "source": [
    "kn = KneeLocator(\n",
    "    icd_codes_x,\n",
    "    freq.tolist(),\n",
    "    curve='convex',\n",
    "    direction='decreasing',\n",
    "    interp_method='polynomial',\n",
    ")\n",
    "\n",
    "print(\"Knee Point:\")\n",
    "print(kn.knee)\n",
    "plt.xlabel('icd codes')\n",
    "plt.ylabel('icd frequencies')\n",
    "plt.plot(icd_codes_x, freq.tolist())\n",
    "plt.vlines(kn.knee, plt.ylim()[0], plt.ylim()[1], linestyles='dashed')"
   ]
  },
  {
   "cell_type": "code",
   "execution_count": 28,
   "metadata": {},
   "outputs": [
    {
     "name": "stdout",
     "output_type": "stream",
     "text": [
      "588\n",
      "583\n",
      "575\n"
     ]
    }
   ],
   "source": [
    "# Checking the frequencies of the ICD codes around the knee point\n",
    "print(freq.tolist()[105])\n",
    "print(freq.tolist()[106])\n",
    "print(freq.tolist()[107])"
   ]
  },
  {
   "cell_type": "code",
   "execution_count": 29,
   "metadata": {},
   "outputs": [
    {
     "name": "stdout",
     "output_type": "stream",
     "text": [
      "['Z867', 'Z871', 'Z921', 'Z880', 'Z966', 'Z824', 'Z866', 'Z961', 'Z904', 'Z888', 'Z907', 'Z874', 'Z858', 'Z853', 'Z955', 'Z800', 'Z926', 'Z860', 'Z923', 'Z910', 'Z886', 'Z854', 'Z881', 'Z850', 'Z951', 'Z950', 'Z861', 'Z602', 'Z873', 'Z855', 'Z870', 'Z901', 'Z885', 'Z980', 'Z960', 'Z958', 'Z835', 'Z878', 'Z803', 'Z924', 'Z872', 'Z857', 'Z905', 'Z954', 'Z968', 'Z804', 'Z865', 'Z933', 'Z932', 'Z751', 'Z974', 'Z952', 'Z713', 'Z911', 'Z851', 'Z993', 'Z991', 'Z882', 'Z739', 'Z902', 'Z988', 'Z998', 'Z981', 'Z823', 'Z837', 'Z916', 'Z863', 'Z967', 'Z862', 'Z936', 'Z931', 'Z908', 'Z992', 'Z801', 'Z900', 'Z833', 'Z718', 'Z953', 'Z877', 'Z883', 'Z906', 'V184', 'Z948', 'Z856', 'Z903', 'Z572', 'W449', 'Z808', 'V180', 'Z634', 'Z733', 'Z852', 'Z884', 'W549', 'Z940', 'W239', 'Z754', 'Z887', 'V031', 'Z975', 'W579', 'Z809', 'Z740', 'Y850', 'W220', 'Y049', 'W229']\n"
     ]
    }
   ],
   "source": [
    "# Isolating the most frequent ICD codes before the knee point\n",
    "key_list = np.arange(start=0, stop=107, step=1).tolist()\n",
    "icd_code_list = [icd_codes_dict[x] for x in key_list]\n",
    "print(icd_code_list)"
   ]
  },
  {
   "cell_type": "code",
   "execution_count": null,
   "metadata": {},
   "outputs": [],
   "source": []
  },
  {
   "cell_type": "code",
   "execution_count": null,
   "metadata": {},
   "outputs": [],
   "source": []
  },
  {
   "cell_type": "code",
   "execution_count": null,
   "metadata": {},
   "outputs": [],
   "source": []
  },
  {
   "cell_type": "markdown",
   "metadata": {},
   "source": [
    "### Piecewise with Log-Transformed Frequencies"
   ]
  },
  {
   "cell_type": "code",
   "execution_count": 12,
   "metadata": {},
   "outputs": [
    {
     "name": "stdout",
     "output_type": "stream",
     "text": [
      "\n",
      "                    Breakpoint Regression Results                     \n",
      "====================================================================================================\n",
      "No. Observations                     1016\n",
      "No. Model Parameters                    6\n",
      "Degrees of Freedom                   1010\n",
      "Res. Sum of Squares               7.58597\n",
      "Total Sum of Squares               1262.3\n",
      "R Squared                        0.993990\n",
      "Adjusted R Squared               0.993955\n",
      "Converged:                           True\n",
      "====================================================================================================\n",
      "====================================================================================================\n",
      "                    Estimate      Std Err            t        P>|t|       [0.025       0.975]\n",
      "----------------------------------------------------------------------------------------------------\n",
      "const                4.41428       0.0177       248.89           0.0       4.3795       4.4491\n",
      "alpha1            -0.0185891     0.000329      -56.427     1.63e-314    -0.019236    -0.017943\n",
      "beta1               0.013426     0.000332       40.437             -     0.012774     0.014077\n",
      "beta2             0.00346099     4.75e-05       72.805             -    0.0033677    0.0035543\n",
      "breakpoint1          93.5045         1.49            -             -       90.582       96.427\n",
      "breakpoint2          468.035         3.36            -             -       461.45       474.62\n",
      "----------------------------------------------------------------------------------------------------\n",
      "These alphas(gradients of segments) are estimatedfrom betas(change in gradient)\n",
      "----------------------------------------------------------------------------------------------------\n",
      "alpha2           -0.00516312     4.13e-05      -124.89           0.0   -0.0052442    -0.005082\n",
      "alpha3           -0.00170213     2.35e-05      -72.533           0.0   -0.0017482   -0.0016561\n",
      "====================================================================================================\n",
      "Davies test for existence of at least 1 breakpoint: p=1.31895e-28 (e.g. p<0.05 means reject null hypothesis of no breakpoints  at 5% significance)\n",
      "\n",
      "\n"
     ]
    },
    {
     "data": {
      "image/png": "[encoded data removed]",
      "text/plain": [
       "<Figure size 432x288 with 1 Axes>"
      ]
     },
     "metadata": {
      "needs_background": "light"
     },
     "output_type": "display_data"
    }
   ],
   "source": [
    "# ~~~~ Log Piecewise ~~~~\n",
    "pw_fit_log = piecewise_regression.Fit(icd_codes_x, freq_log.tolist(), n_breakpoints=2)\n",
    "pw_fit_log.summary()\n",
    "\n",
    "\n",
    "# Plot the data, fit, breakpoints and confidence intervals\n",
    "pw_fit_log.plot_data(color=\"grey\", s=20)\n",
    "# Pass in standard matplotlib keywords to control any of the plots\n",
    "pw_fit_log.plot_fit(color=\"red\", linewidth=4)\n",
    "pw_fit_log.plot_breakpoints()\n",
    "pw_fit_log.plot_breakpoint_confidence_intervals()\n",
    "plt.xlabel(\"z codes\")\n",
    "plt.ylabel(\"number of people (log)\")\n",
    "plt.show()\n",
    "plt.close()"
   ]
  },
  {
   "cell_type": "code",
   "execution_count": 13,
   "metadata": {},
   "outputs": [
    {
     "name": "stdout",
     "output_type": "stream",
     "text": [
      "breakpoint 1 w log:\n",
      "W549\n",
      "breakpoint 2 w log:\n",
      "Z631\n"
     ]
    }
   ],
   "source": [
    "# breakpoint1 = 93.4635\n",
    "print(\"breakpoint 1 w log:\")\n",
    "print(icd_codes_dict[93])\n",
    "\n",
    "# breakpoint2 = 467.501\n",
    "print(\"breakpoint 2 w log:\")\n",
    "print(icd_codes_dict[467])"
   ]
  },
  {
   "cell_type": "markdown",
   "metadata": {},
   "source": [
    "### Piecewise - Without Log Transformation"
   ]
  },
  {
   "cell_type": "code",
   "execution_count": 14,
   "metadata": {},
   "outputs": [
    {
     "name": "stdout",
     "output_type": "stream",
     "text": [
      "\n",
      "                    Breakpoint Regression Results                     \n",
      "====================================================================================================\n",
      "No. Observations                     1016\n",
      "No. Model Parameters                    4\n",
      "Degrees of Freedom                   1012\n",
      "Res. Sum of Squares           7.58215e+08\n",
      "Total Sum of Squares          1.34759e+10\n",
      "R Squared                        0.943735\n",
      "Adjusted R Squared               0.943513\n",
      "Converged:                           True\n",
      "====================================================================================================\n",
      "====================================================================================================\n",
      "                    Estimate      Std Err            t        P>|t|       [0.025       0.975]\n",
      "----------------------------------------------------------------------------------------------------\n",
      "const                33863.1     2.95e+02       114.93           0.0   3.3285e+04   3.4441e+04\n",
      "alpha1              -1028.71         15.8      -65.008           0.0      -1059.8      -997.66\n",
      "beta1                1027.81         15.8        64.95             -       996.76       1058.9\n",
      "breakpoint1          32.3279        0.296            -             -       31.747       32.909\n",
      "----------------------------------------------------------------------------------------------------\n",
      "These alphas(gradients of segments) are estimatedfrom betas(change in gradient)\n",
      "----------------------------------------------------------------------------------------------------\n",
      "alpha2             -0.897893       0.0973      -9.2291      1.55e-19      -1.0888     -0.70698\n",
      "====================================================================================================\n",
      "Davies test for existence of at least 1 breakpoint: p=0.0 (e.g. p<0.05 means reject null hypothesis of no breakpoints  at 5% significance)\n",
      "\n",
      "\n"
     ]
    },
    {
     "data": {
      "image/png": "[encoded data removed]",
      "text/plain": [
       "<Figure size 432x288 with 1 Axes>"
      ]
     },
     "metadata": {
      "needs_background": "light"
     },
     "output_type": "display_data"
    }
   ],
   "source": [
    "# ~~~~ Not Log Piecewise ~~~~\n",
    "pw_fit = piecewise_regression.Fit(icd_codes_x, freq.tolist(), n_breakpoints=1)\n",
    "pw_fit.summary()\n",
    "\n",
    "\n",
    "# Plot the data, fit, breakpoints and confidence intervals\n",
    "pw_fit.plot_data(color=\"grey\", s=20)\n",
    "# Pass in standard matplotlib keywords to control any of the plots\n",
    "pw_fit.plot_fit(color=\"red\", linewidth=4)\n",
    "pw_fit.plot_breakpoints()\n",
    "pw_fit.plot_breakpoint_confidence_intervals()\n",
    "plt.xlabel(\"z codes\")\n",
    "plt.ylabel(\"number of people\")\n",
    "plt.axhline(y = 250, color = 'g', linestyle = '-')\n",
    "plt.show()\n",
    "plt.close()"
   ]
  },
  {
   "cell_type": "code",
   "execution_count": 15,
   "metadata": {},
   "outputs": [
    {
     "name": "stdout",
     "output_type": "stream",
     "text": [
      "5752\n",
      "5749\n",
      "153\n"
     ]
    }
   ],
   "source": [
    "print(freq.tolist()[32])\n",
    "print(freq.tolist()[33])\n",
    "j2 = [i for i in freq.tolist() if i >= 250]\n",
    "print(len(j2))"
   ]
  },
  {
   "cell_type": "code",
   "execution_count": 16,
   "metadata": {},
   "outputs": [
    {
     "name": "stdout",
     "output_type": "stream",
     "text": [
      "breakpoint wo log:\n",
      "Z885\n"
     ]
    }
   ],
   "source": [
    "# breakpoint: 32.3279\n",
    "print(\"breakpoint wo log:\")\n",
    "print(icd_codes_dict[32])"
   ]
  },
  {
   "cell_type": "code",
   "execution_count": 17,
   "metadata": {},
   "outputs": [
    {
     "name": "stdout",
     "output_type": "stream",
     "text": [
      "['Z867', 'Z871', 'Z921', 'Z880', 'Z966', 'Z824', 'Z866', 'Z961', 'Z904', 'Z888', 'Z907', 'Z874', 'Z858', 'Z853', 'Z955', 'Z800', 'Z926', 'Z860', 'Z923', 'Z910', 'Z886', 'Z854', 'Z881', 'Z850', 'Z951', 'Z950', 'Z861', 'Z602', 'Z873', 'Z855', 'Z870', 'Z901', 'Z885']\n"
     ]
    }
   ],
   "source": [
    "key_list = np.arange(start=0, stop=33, step=1).tolist()\n",
    "icd_code_list = [icd_codes_dict[x] for x in key_list]\n",
    "print(icd_code_list)"
   ]
  },
  {
   "cell_type": "markdown",
   "metadata": {},
   "source": [
    "### Ultimately, we decided to use the knee point from the non-transformed data."
   ]
  },
  {
   "cell_type": "code",
   "execution_count": null,
   "metadata": {},
   "outputs": [],
   "source": []
  }
 ],
 "metadata": {
  "kernelspec": {
   "display_name": "Python 3",
   "language": "python",
   "name": "python3"
  },
  "language_info": {
   "codemirror_mode": {
    "name": "ipython",
    "version": 3
   },
   "file_extension": ".py",
   "mimetype": "text/x-python",
   "name": "python",
   "nbconvert_exporter": "python",
   "pygments_lexer": "ipython3",
   "version": "3.8.3"
  }
 },
 "nbformat": 4,
 "nbformat_minor": 4
}
